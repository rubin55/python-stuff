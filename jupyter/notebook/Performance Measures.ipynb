{
 "cells": [
  {
   "cell_type": "markdown",
   "metadata": {},
   "source": [
    "$ RMSE(X, h) = \\sqrt{\\frac{1}{m}\\sum_{i=1}^{m}(h(x^{(i)})-y^{(i)})^2 } $"
   ]
  },
  {
   "cell_type": "markdown",
   "metadata": {},
   "source": [
    "$ MAE(X, h) =  \\frac{1}{m}\\sum_{i=1}^{m}|h(x^{(i)})-y^{(i)}| $"
   ]
  },
  {
   "cell_type": "code",
   "execution_count": 40,
   "metadata": {},
   "outputs": [
    {
     "data": {
      "image/png": "[encoded data removed]",
      "text/latex": [
       "$\\displaystyle \\sum_{i=1}^{m} \\left(- y^{i} + h{\\left(x^{i} \\right)}\\right)^{2}$"
      ],
      "text/plain": [
       "  m                  \n",
       " ____                \n",
       " ╲                   \n",
       "  ╲                  \n",
       "   ╲                2\n",
       "   ╱  ⎛   i    ⎛ i⎞⎞ \n",
       "  ╱   ⎝- y  + h⎝x ⎠⎠ \n",
       " ╱                   \n",
       " ‾‾‾‾                \n",
       "i = 1                "
      ]
     },
     "execution_count": 40,
     "metadata": {},
     "output_type": "execute_result"
    }
   ],
   "source": [
    "from sympy import init_printing, symbols, sympify, Sum\n",
    "\n",
    "init_printing(use_unicode=True)\n",
    "X, h, m, i ,x, y = symbols('X h m i x y')\n",
    "sympify(\"sqrt(1/m)\")\n",
    "Sum(sympify(\"(h(x**i)-y**i)**2\"), (i, 1, m))\n"
   ]
  },
  {
   "cell_type": "code",
   "execution_count": null,
   "metadata": {},
   "outputs": [],
   "source": []
  }
 ],
 "metadata": {
  "kernelspec": {
   "display_name": "Python 3",
   "language": "python",
   "name": "python3"
  },
  "language_info": {
   "codemirror_mode": {
    "name": "ipython",
    "version": 3
   },
   "file_extension": ".py",
   "mimetype": "text/x-python",
   "name": "python",
   "nbconvert_exporter": "python",
   "pygments_lexer": "ipython3",
   "version": "3.8.3"
  }
 },
 "nbformat": 4,
 "nbformat_minor": 4
}
